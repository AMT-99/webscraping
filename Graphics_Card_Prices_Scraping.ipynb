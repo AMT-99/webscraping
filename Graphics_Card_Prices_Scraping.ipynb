{
 "cells": [
  {
   "cell_type": "code",
   "execution_count": null,
   "id": "3e46f80e",
   "metadata": {},
   "outputs": [],
   "source": [
    "from bs4 import BeautifulSoup\n",
    "import requests\n",
    "import pandas as pd\n",
    "import csv\n",
    "from datetime import datetime\n",
    "import time\n",
    "import pytz"
   ]
  },
  {
   "cell_type": "code",
   "execution_count": null,
   "id": "6747ce82",
   "metadata": {},
   "outputs": [],
   "source": [
    "# setting Egypt datetime settings\n",
    "egypt_timezone = pytz.timezone('Africa/Cairo')\n",
    "current_time_egypt = datetime.now(egypt_timezone)"
   ]
  },
  {
   "cell_type": "code",
   "execution_count": null,
   "id": "f8bc8397",
   "metadata": {},
   "outputs": [],
   "source": [
    "url = 'https://www.sigma-computer.com/subcategory?id=1&cname=Desktop&id2=2&scname=Graphic+Card&page'\n",
    "headers = {\"User-Agent\": \"Mozilla/5.0 (Windows NT 10.0; Win64; x64) AppleWebKit/537.36 (KHTML, like Gecko) Chrome/121.0.0.0 Safari/537.36\"}\n",
    "page = requests.get(url, headers=headers)\n",
    "soup = BeautifulSoup(page.content, \"html.parser\")"
   ]
  },
  {
   "cell_type": "code",
   "execution_count": null,
   "id": "94158ea0",
   "metadata": {},
   "outputs": [],
   "source": [
    "def scrape_page(url3, headers):\n",
    "    page = requests.get(url3, headers=headers)\n",
    "    soup = BeautifulSoup(page.content, \"html.parser\")\n",
    "    anchor_element = soup.find_all('h4')\n",
    "    price1 = soup.find_all(class_='price-new')\n",
    "   \n",
    "    for element, element2 in zip(anchor_element, price1):\n",
    "        text = element.get_text()\n",
    "        text1 = element2.get_text()\n",
    "        data1 = [text, text1, (current_time_egypt.strftime('%Y-%m-%d %H:%M:%S')).lstrip()]\n",
    "        with open('trial2.csv', 'a+', newline='', encoding='UTF8') as f:\n",
    "            writer = csv.writer(f)\n",
    "            writer.writerow(data1)\n",
    "        print(text, text1)"
   ]
  },
  {
   "cell_type": "code",
   "execution_count": null,
   "id": "de4e8cb1",
   "metadata": {},
   "outputs": [],
   "source": [
    "def scrape_multiple_pages(base_url, num_pages):\n",
    "    data = [\"title\", \"price\",\"time\"]\n",
    "    with open('trial2.csv', 'a+', newline='', encoding='UTF8') as f:\n",
    "        writer = csv.writer(f)\n",
    "        writer.writerow(data)\n",
    "    for page in range(1, num_pages):\n",
    "        url = f\"{base_url}&page={page}\"\n",
    "        headers = {\"User-Agent\": \"Mozilla/5.0 (Windows NT 10.0; Win64; x64) AppleWebKit/537.36 (KHTML, like Gecko) Chrome/121.0.0.0 Safari/537.36\"}\n",
    "        scrape_page(url, headers)"
   ]
  },
  {
   "cell_type": "code",
   "execution_count": null,
   "id": "af45f977",
   "metadata": {
    "scrolled": false
   },
   "outputs": [],
   "source": [
    "base_url = 'https://www.sigma-computer.com/subcategory?id=1&cname=Desktop&id2=2&scname=Graphic+Card'\n",
    "num_pages = 18\n",
    "scrape_multiple_pages(base_url, num_pages)\n"
   ]
  }
 ],
 "metadata": {
  "kernelspec": {
   "display_name": "Python 3 (ipykernel)",
   "language": "python",
   "name": "python3"
  },
  "language_info": {
   "codemirror_mode": {
    "name": "ipython",
    "version": 3
   },
   "file_extension": ".py",
   "mimetype": "text/x-python",
   "name": "python",
   "nbconvert_exporter": "python",
   "pygments_lexer": "ipython3",
   "version": "3.11.5"
  }
 },
 "nbformat": 4,
 "nbformat_minor": 5
}
