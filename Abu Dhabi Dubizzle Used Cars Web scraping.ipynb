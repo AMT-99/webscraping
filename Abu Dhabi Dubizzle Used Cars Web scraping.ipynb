{
 "cells": [
  {
   "cell_type": "code",
   "execution_count": null,
   "id": "be44c8ca",
   "metadata": {},
   "outputs": [],
   "source": [
    "from bs4 import BeautifulSoup\n",
    "import requests\n",
    "import pandas as pd\n",
    "import csv\n",
    "from datetime import datetime\n",
    "import time\n",
    "import pytz"
   ]
  },
  {
   "cell_type": "code",
   "execution_count": null,
   "id": "23311ca5",
   "metadata": {},
   "outputs": [],
   "source": [
    "# setting Egypt datetime settings\n",
    "egypt_timezone = pytz.timezone('Africa/Cairo')\n",
    "current_time_egypt = datetime.now(egypt_timezone)"
   ]
  },
  {
   "cell_type": "code",
   "execution_count": null,
   "id": "67fb3b5e",
   "metadata": {},
   "outputs": [],
   "source": [
    "def scrape_page(url3, headers):\n",
    "    page = requests.get(url3, headers=headers)\n",
    "    soup = BeautifulSoup(page.content, \"html.parser\")\n",
    "    car_brand = soup.find_all(attrs={\"data-testid\": \"heading-text-1\"})\n",
    "    car_model = soup.find_all(attrs={\"data-testid\": \"heading-text-2\"})\n",
    "    production_year = soup.find_all(attrs={\"data-testid\": \"listing-year\"})\n",
    "    mileage = soup.find_all(attrs={\"data-testid\": \"listing-kms\"})\n",
    "    price = soup.find_all(attrs={\"data-testid\": \"listing-price\"})\n",
    "    description = soup.find_all(attrs={\"data-testid\": \"subheading-text\"})\n",
    "    address = soup.find_all(attrs={\"data-testid\": \"listing-price\"})\n",
    "    specs = soup.find_all(attrs={\"data-testid\": \"listing-regional specs\"})\n",
    "    \n",
    "   \n",
    "    for e1, e2, e3, e4, e5, e6, e7, e8 in zip(car_brand, car_model, production_year, mileage, price, description, address, specs):\n",
    "        text1 = e1.get_text()\n",
    "        text2 = e2.get_text()\n",
    "        text3 = e3.get_text()\n",
    "        text4 = e4.get_text()\n",
    "        text5 = e5.get_text()\n",
    "        text6 = e6.get_text()\n",
    "        text7 = e7.get_text()\n",
    "        text8 = e8.get_text()\n",
    "                \n",
    "        data1 = [text1, text2, text3, text4, text5, text6, text7, text8, (current_time_egypt.strftime('%Y-%m-%d %H:%M:%S')).lstrip()]\n",
    "        with open('Dubai_Used_Cars.csv', 'a+', newline='', encoding='UTF8') as f:\n",
    "            writer = csv.writer(f)\n",
    "            writer.writerow(data1)\n",
    "        print(text1, text2, text3, text4, text5, text6, text7, text8)"
   ]
  },
  {
   "cell_type": "code",
   "execution_count": null,
   "id": "c6c38668",
   "metadata": {},
   "outputs": [],
   "source": [
    "def scrape_multiple_pages(base_url, num_pages):\n",
    "    data = [\"Car Brand\", \"Car Model\", \"Production Year\", \"Mileage\",\"Price\", \"Description\", \"Address\", \"Time Stamp\" ]\n",
    "    with open('Dubai.csv', 'a+', newline='', encoding='UTF8') as f:\n",
    "        writer = csv.writer(f)\n",
    "        writer.writerow(data)\n",
    "    for page in range(1, num_pages):\n",
    "        url = f\"{base_url}&?page={page}\"\n",
    "        headers = {\"User-Agent\": \"Mozilla/5.0 (Windows NT 10.0; Win64; x64) AppleWebKit/537.36 (KHTML, like Gecko) Chrome/121.0.0.0 Safari/537.36\"}\n",
    "        scrape_page(url, headers)"
   ]
  },
  {
   "cell_type": "code",
   "execution_count": null,
   "id": "f0bf7abb",
   "metadata": {},
   "outputs": [],
   "source": [
    "base_url = 'https://dubai.dubizzle.com/motors/used-cars/chevrolet/'\n",
    "num_pages = 18\n",
    "scrape_multiple_pages(base_url, num_pages)"
   ]
  },
  {
   "cell_type": "code",
   "execution_count": null,
   "id": "964e4c21",
   "metadata": {},
   "outputs": [],
   "source": [
    "base_url = 'https://dubai.dubizzle.com/motors/used-cars/ford/'\n",
    "headers = {\"User-Agent\": \"Mozilla/5.0 (Windows NT 10.0; Win64; x64) AppleWebKit/537.36 (KHTML, like Gecko) Chrome/121.0.0.0 Safari/537.36\"}\n",
    "page = requests.get(base_url, headers=headers)\n",
    "soup = BeautifulSoup(page.content, \"html.parser\")\n",
    "car_brand = soup.find(attrs={\"data-testid\": \"listing-price\"})\n",
    "car_model = soup.find(class_='sc-fmzyuX sc-jlGgGc IKLyp gmqVni heading-text-2')\n",
    "print(car_brand)\n",
    "car_brand"
   ]
  },
  {
   "cell_type": "code",
   "execution_count": null,
   "id": "5fb40266",
   "metadata": {},
   "outputs": [],
   "source": [
    "print(car_brand)\n",
    "car_brand"
   ]
  }
 ],
 "metadata": {
  "kernelspec": {
   "display_name": "Python 3 (ipykernel)",
   "language": "python",
   "name": "python3"
  },
  "language_info": {
   "codemirror_mode": {
    "name": "ipython",
    "version": 3
   },
   "file_extension": ".py",
   "mimetype": "text/x-python",
   "name": "python",
   "nbconvert_exporter": "python",
   "pygments_lexer": "ipython3",
   "version": "3.11.5"
  }
 },
 "nbformat": 4,
 "nbformat_minor": 5
}
